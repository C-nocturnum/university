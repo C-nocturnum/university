{
  "nbformat": 4,
  "nbformat_minor": 0,
  "metadata": {
    "colab": {
      "provenance": [],
      "authorship_tag": "ABX9TyPMDpSHWTOjYTBSNfjl9qc/"
    },
    "kernelspec": {
      "name": "python3",
      "display_name": "Python 3"
    },
    "language_info": {
      "name": "python"
    }
  },
  "cells": [
    {
      "cell_type": "code",
      "source": [
        "# usual imports\n",
        "import numpy as np\n",
        "import pandas as pd\n",
        "import seaborn as sns\n",
        "from matplotlib import pyplot as plt\n",
        "\n",
        "#import additional for ngrams\n",
        "import re\n",
        "import string\n",
        "from collections import Counter\n",
        "from sklearn.feature_extraction.text import CountVectorizer\n",
        "from sklearn.metrics.pairwise import cosine_similarity\n",
        "\n",
        "#load 2 AS MIST files into colab\n",
        "from google.colab import files\n",
        "uploaded = files.upload()\n",
        "\n",
        "# load filenames\n",
        "file_names = list(uploaded.keys())\n",
        "\n",
        "# preprocess = remove punctuation, convert to lowercase & tokenise\n",
        "def preprocess_text(text):\n",
        "    text = text.lower()\n",
        "    text = re.sub(f\"[{string.punctuation}]\", \"\", text)\n",
        "    tokens = text.split()\n",
        "    return tokens\n",
        "\n",
        "# generate the n-grams using the imported text from the AS MIST files (n= # words in the ngram)\n",
        "def generate_ngrams(tokens, n=2):\n",
        "    return [\" \".join(tokens[i:i+n]) for i in range(len(tokens)-n+1)]\n",
        "\n",
        "# work out jaccard similarity for the ngrams\n",
        "def jaccard_similarity(ngrams1, ngrams2):\n",
        "    set1, set2 = set(ngrams1), set(ngrams2)\n",
        "    intersection = len(set1 & set2)\n",
        "    union = len(set1 | set2)\n",
        "    return intersection / union if union != 0 else 0\n",
        "\n",
        "# work out cosine similarity for the ngrams\n",
        "def cosine_similarity_ngrams(ngrams1, ngrams2):\n",
        "    vectorizer = CountVectorizer().fit(ngrams1 + ngrams2)\n",
        "    vec1 = vectorizer.transform([\" \".join(ngrams1)])\n",
        "    vec2 = vectorizer.transform([\" \".join(ngrams2)])\n",
        "    return cosine_similarity(vec1, vec2)[0][0]\n",
        "\n",
        "# compare two MIST files using ngrams and the jaccard & cosine metrics\n",
        "def compare_texts(file1, file2, n=2): # (n= # words in the ngram)\n",
        "    with open(file1, \"r\", encoding=\"utf-8\") as f1, open(file2, \"r\", encoding=\"utf-8\") as f2:\n",
        "        text1, text2 = f1.read(), f2.read()\n",
        "\n",
        "    tokens1, tokens2 = preprocess_text(text1), preprocess_text(text2)\n",
        "    ngrams1, ngrams2 = generate_ngrams(tokens1, n), generate_ngrams(tokens2, n)\n",
        "\n",
        "    jaccard = jaccard_similarity(ngrams1, ngrams2)\n",
        "    cosine = cosine_similarity_ngrams(ngrams1, ngrams2)\n",
        "\n",
        "    print(f\"Jaccard Similarity ({n}-grams): {jaccard:.4f}\")\n",
        "    print(f\"Cosine Similarity ({n}-grams): {cosine:.4f}\")\n",
        "\n",
        "# compare the 2 MIST files (n= # words in the ngram)\n",
        "if len(file_names) >= 2:\n",
        "    compare_texts(file_names[0], file_names[1], n=2)\n",
        "else:\n",
        "    print(\"upload at least 2 MIST files\")"
      ],
      "metadata": {
        "id": "qQRakKpv_hXB"
      },
      "execution_count": null,
      "outputs": []
    }
  ]
}